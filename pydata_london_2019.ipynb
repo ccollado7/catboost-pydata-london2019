{
 "cells": [
  {
   "cell_type": "markdown",
   "metadata": {
    "colab_type": "text",
    "id": "NoOUHzYOMZOX"
   },
   "source": [
    "# Mastering Gradient Boosting with CatBoost"
   ]
  },
  {
   "cell_type": "markdown",
   "metadata": {
    "colab_type": "text",
    "id": "4SAHMkrMMZOZ"
   },
   "source": [
    "In this tutorial we will use dataset Amazon Employee Access Challenge from [Kaggle](https://www.kaggle.com) competition for our experiments. [Here](https://www.kaggle.com/c/amazon-employee-access-challenge/data) is the link to the challenge, that we will be exploring."
   ]
  },
  {
   "cell_type": "markdown",
   "metadata": {
    "colab_type": "text",
    "id": "F9OjJtTuMZOb"
   },
   "source": [
    "## Libraries installation"
   ]
  },
  {
   "cell_type": "code",
   "execution_count": null,
   "metadata": {
    "colab": {},
    "colab_type": "code",
    "id": "kJKVb3ZlMZOd"
   },
   "outputs": [],
   "source": [
    "#!pip install --user --upgrade catboost\n",
    "#!pip install --user --upgrade ipywidgets\n",
    "#!pip install shap\n",
    "#!pip install sklearn\n",
    "#!jupyter nbextension enable --py widgetsnbextension"
   ]
  },
  {
   "cell_type": "code",
   "execution_count": 1,
   "metadata": {
    "colab": {},
    "colab_type": "code",
    "id": "rpU6BBkgMZOj"
   },
   "outputs": [
    {
     "name": "stdout",
     "output_type": "stream",
     "text": [
      "1.0.3\n"
     ]
    }
   ],
   "source": [
    "#import modules\n",
    "\n",
    "import os\n",
    "import pandas as pd\n",
    "import numpy as np\n",
    "np.set_printoptions(precision=4)\n",
    "\n",
    "import catboost\n",
    "print(catboost.__version__) #catboos version"
   ]
  },
  {
   "cell_type": "markdown",
   "metadata": {
    "colab_type": "text",
    "id": "jyvCTqsgMZOo"
   },
   "source": [
    "## Reading the data"
   ]
  },
  {
   "cell_type": "code",
   "execution_count": 2,
   "metadata": {
    "colab": {},
    "colab_type": "code",
    "id": "i-0S4-lnMZOq"
   },
   "outputs": [],
   "source": [
    "from catboost.datasets import amazon\n",
    "\n",
    "# If you have \"URLError: SSL: CERTIFICATE_VERIFY_FAILED\" uncomment next two lines:\n",
    "# import ssl\n",
    "# ssl._create_default_https_context = ssl._create_unverified_context\n",
    "\n",
    "# If you have any other error:\n",
    "# Download datasets from http://bit.ly/2ZUXTSv and uncomment next line:\n",
    "# train_df = pd.read_csv('train.csv', sep=',', header='infer')\n",
    "\n",
    "(train_df, test_df) = amazon()"
   ]
  },
  {
   "cell_type": "code",
   "execution_count": 3,
   "metadata": {
    "colab": {},
    "colab_type": "code",
    "id": "_UpzVSc5MZOs"
   },
   "outputs": [
    {
     "data": {
      "text/html": [
       "<div>\n",
       "<style scoped>\n",
       "    .dataframe tbody tr th:only-of-type {\n",
       "        vertical-align: middle;\n",
       "    }\n",
       "\n",
       "    .dataframe tbody tr th {\n",
       "        vertical-align: top;\n",
       "    }\n",
       "\n",
       "    .dataframe thead th {\n",
       "        text-align: right;\n",
       "    }\n",
       "</style>\n",
       "<table border=\"1\" class=\"dataframe\">\n",
       "  <thead>\n",
       "    <tr style=\"text-align: right;\">\n",
       "      <th></th>\n",
       "      <th>ACTION</th>\n",
       "      <th>RESOURCE</th>\n",
       "      <th>MGR_ID</th>\n",
       "      <th>ROLE_ROLLUP_1</th>\n",
       "      <th>ROLE_ROLLUP_2</th>\n",
       "      <th>ROLE_DEPTNAME</th>\n",
       "      <th>ROLE_TITLE</th>\n",
       "      <th>ROLE_FAMILY_DESC</th>\n",
       "      <th>ROLE_FAMILY</th>\n",
       "      <th>ROLE_CODE</th>\n",
       "    </tr>\n",
       "  </thead>\n",
       "  <tbody>\n",
       "    <tr>\n",
       "      <th>0</th>\n",
       "      <td>1</td>\n",
       "      <td>39353</td>\n",
       "      <td>85475</td>\n",
       "      <td>117961</td>\n",
       "      <td>118300</td>\n",
       "      <td>123472</td>\n",
       "      <td>117905</td>\n",
       "      <td>117906</td>\n",
       "      <td>290919</td>\n",
       "      <td>117908</td>\n",
       "    </tr>\n",
       "    <tr>\n",
       "      <th>1</th>\n",
       "      <td>1</td>\n",
       "      <td>17183</td>\n",
       "      <td>1540</td>\n",
       "      <td>117961</td>\n",
       "      <td>118343</td>\n",
       "      <td>123125</td>\n",
       "      <td>118536</td>\n",
       "      <td>118536</td>\n",
       "      <td>308574</td>\n",
       "      <td>118539</td>\n",
       "    </tr>\n",
       "    <tr>\n",
       "      <th>2</th>\n",
       "      <td>1</td>\n",
       "      <td>36724</td>\n",
       "      <td>14457</td>\n",
       "      <td>118219</td>\n",
       "      <td>118220</td>\n",
       "      <td>117884</td>\n",
       "      <td>117879</td>\n",
       "      <td>267952</td>\n",
       "      <td>19721</td>\n",
       "      <td>117880</td>\n",
       "    </tr>\n",
       "    <tr>\n",
       "      <th>3</th>\n",
       "      <td>1</td>\n",
       "      <td>36135</td>\n",
       "      <td>5396</td>\n",
       "      <td>117961</td>\n",
       "      <td>118343</td>\n",
       "      <td>119993</td>\n",
       "      <td>118321</td>\n",
       "      <td>240983</td>\n",
       "      <td>290919</td>\n",
       "      <td>118322</td>\n",
       "    </tr>\n",
       "    <tr>\n",
       "      <th>4</th>\n",
       "      <td>1</td>\n",
       "      <td>42680</td>\n",
       "      <td>5905</td>\n",
       "      <td>117929</td>\n",
       "      <td>117930</td>\n",
       "      <td>119569</td>\n",
       "      <td>119323</td>\n",
       "      <td>123932</td>\n",
       "      <td>19793</td>\n",
       "      <td>119325</td>\n",
       "    </tr>\n",
       "  </tbody>\n",
       "</table>\n",
       "</div>"
      ],
      "text/plain": [
       "   ACTION  RESOURCE  MGR_ID  ROLE_ROLLUP_1  ROLE_ROLLUP_2  ROLE_DEPTNAME  \\\n",
       "0       1     39353   85475         117961         118300         123472   \n",
       "1       1     17183    1540         117961         118343         123125   \n",
       "2       1     36724   14457         118219         118220         117884   \n",
       "3       1     36135    5396         117961         118343         119993   \n",
       "4       1     42680    5905         117929         117930         119569   \n",
       "\n",
       "   ROLE_TITLE  ROLE_FAMILY_DESC  ROLE_FAMILY  ROLE_CODE  \n",
       "0      117905            117906       290919     117908  \n",
       "1      118536            118536       308574     118539  \n",
       "2      117879            267952        19721     117880  \n",
       "3      118321            240983       290919     118322  \n",
       "4      119323            123932        19793     119325  "
      ]
     },
     "execution_count": 3,
     "metadata": {},
     "output_type": "execute_result"
    }
   ],
   "source": [
    "train_df.head()"
   ]
  },
  {
   "cell_type": "markdown",
   "metadata": {},
   "source": [
    "The column \"ACTION\" is the one we want to predict: We want to predict if some pearson will be granted with some rol\n",
    "\n",
    "All the features are numeric but they realle are hashes. By this will handle like categorical features"
   ]
  },
  {
   "cell_type": "markdown",
   "metadata": {
    "colab_type": "text",
    "id": "a_RJsFxmMZOv"
   },
   "source": [
    "## Exploring the data"
   ]
  },
  {
   "cell_type": "markdown",
   "metadata": {
    "colab_type": "text",
    "id": "F8vZsLrqMZOw"
   },
   "source": [
    "Label values extraction"
   ]
  },
  {
   "cell_type": "code",
   "execution_count": 4,
   "metadata": {
    "colab": {},
    "colab_type": "code",
    "id": "IQ-1FtVnMZOy"
   },
   "outputs": [],
   "source": [
    "y = train_df.ACTION #target vector\n",
    "X = train_df.drop('ACTION', axis=1) #features vector"
   ]
  },
  {
   "cell_type": "markdown",
   "metadata": {
    "colab_type": "text",
    "id": "7QdMxz9KMZO0"
   },
   "source": [
    "Categorical features declaration"
   ]
  },
  {
   "cell_type": "code",
   "execution_count": 5,
   "metadata": {
    "colab": {},
    "colab_type": "code",
    "id": "eU0YskBrMZO1"
   },
   "outputs": [
    {
     "name": "stdout",
     "output_type": "stream",
     "text": [
      "[0, 1, 2, 3, 4, 5, 6, 7, 8]\n"
     ]
    }
   ],
   "source": [
    "cat_features = list(range(0, X.shape[1]))\n",
    "print(cat_features)"
   ]
  },
  {
   "cell_type": "markdown",
   "metadata": {
    "colab_type": "text",
    "id": "DVOKPWvfMZO3"
   },
   "source": [
    "Looking on label balance in dataset"
   ]
  },
  {
   "cell_type": "code",
   "execution_count": 6,
   "metadata": {
    "colab": {},
    "colab_type": "code",
    "id": "G39MbUXYMZO4"
   },
   "outputs": [
    {
     "name": "stdout",
     "output_type": "stream",
     "text": [
      "Labels: {0, 1}\n",
      "Zero count = 1897, One count = 30872\n"
     ]
    }
   ],
   "source": [
    "print('Labels: {}'.format(set(y)))\n",
    "print('Zero count = {}, One count = {}'.format(len(y) - sum(y), sum(y)))"
   ]
  },
  {
   "cell_type": "code",
   "execution_count": 7,
   "metadata": {},
   "outputs": [
    {
     "data": {
      "text/plain": [
       "1    30872\n",
       "0     1897\n",
       "Name: ACTION, dtype: int64"
      ]
     },
     "execution_count": 7,
     "metadata": {},
     "output_type": "execute_result"
    }
   ],
   "source": [
    "#another way to count target classes\n",
    "\n",
    "y.value_counts()"
   ]
  },
  {
   "cell_type": "markdown",
   "metadata": {},
   "source": [
    "The target are high desbalanced"
   ]
  },
  {
   "cell_type": "markdown",
   "metadata": {
    "colab_type": "text",
    "id": "IVCKy13NMZO9"
   },
   "source": [
    "# Training the first model"
   ]
  },
  {
   "cell_type": "code",
   "execution_count": 8,
   "metadata": {
    "colab": {},
    "colab_type": "code",
    "id": "n2R013L6MZO-"
   },
   "outputs": [
    {
     "name": "stdout",
     "output_type": "stream",
     "text": [
      "Learning rate set to 0.377604\n",
      "0:\tlearn: 0.4528598\ttotal: 182ms\tremaining: 18s\n",
      "10:\tlearn: 0.1744186\ttotal: 343ms\tremaining: 2.77s\n",
      "20:\tlearn: 0.1676119\ttotal: 503ms\tremaining: 1.89s\n",
      "30:\tlearn: 0.1652446\ttotal: 658ms\tremaining: 1.46s\n",
      "40:\tlearn: 0.1633644\ttotal: 847ms\tremaining: 1.22s\n",
      "50:\tlearn: 0.1621892\ttotal: 1s\tremaining: 966ms\n",
      "60:\tlearn: 0.1609164\ttotal: 1.18s\tremaining: 753ms\n",
      "70:\tlearn: 0.1594572\ttotal: 1.35s\tremaining: 551ms\n",
      "80:\tlearn: 0.1585876\ttotal: 1.5s\tremaining: 353ms\n",
      "90:\tlearn: 0.1573593\ttotal: 1.67s\tremaining: 165ms\n",
      "99:\tlearn: 0.1566977\ttotal: 1.81s\tremaining: 0us\n"
     ]
    },
    {
     "data": {
      "text/plain": [
       "<catboost.core.CatBoostClassifier at 0x21cdeaca760>"
      ]
     },
     "execution_count": 8,
     "metadata": {},
     "output_type": "execute_result"
    }
   ],
   "source": [
    "from catboost import CatBoostClassifier\n",
    "model = CatBoostClassifier(iterations=100) #instantiate the CatBoost class\n",
    "model.fit(X, y, cat_features=cat_features, verbose=10) #fit the model"
   ]
  },
  {
   "cell_type": "markdown",
   "metadata": {},
   "source": [
    "In the cat_features parameters we pass the categorical features indices or names"
   ]
  },
  {
   "cell_type": "code",
   "execution_count": 9,
   "metadata": {},
   "outputs": [
    {
     "name": "stdout",
     "output_type": "stream",
     "text": [
      "Learning rate set to 0.377604\n",
      "0:\tlearn: 0.4528598\ttotal: 11ms\tremaining: 1.09s\n",
      "10:\tlearn: 0.1744186\ttotal: 157ms\tremaining: 1.27s\n",
      "20:\tlearn: 0.1676119\ttotal: 361ms\tremaining: 1.36s\n",
      "30:\tlearn: 0.1652446\ttotal: 521ms\tremaining: 1.16s\n",
      "40:\tlearn: 0.1633644\ttotal: 684ms\tremaining: 984ms\n",
      "50:\tlearn: 0.1621892\ttotal: 843ms\tremaining: 810ms\n",
      "60:\tlearn: 0.1609164\ttotal: 1.07s\tremaining: 687ms\n",
      "70:\tlearn: 0.1594572\ttotal: 1.28s\tremaining: 523ms\n",
      "80:\tlearn: 0.1585876\ttotal: 1.47s\tremaining: 345ms\n",
      "90:\tlearn: 0.1573593\ttotal: 1.62s\tremaining: 160ms\n",
      "99:\tlearn: 0.1566977\ttotal: 1.77s\tremaining: 0us\n"
     ]
    },
    {
     "data": {
      "text/plain": [
       "<catboost.core.CatBoostClassifier at 0x21cded3d220>"
      ]
     },
     "execution_count": 9,
     "metadata": {},
     "output_type": "execute_result"
    }
   ],
   "source": [
    "from catboost import CatBoostClassifier\n",
    "model_1 = CatBoostClassifier(iterations=100) #instantiate the CatBoost class\n",
    "model_1.fit(X, y, cat_features=list(train_df.drop('ACTION', axis=1).columns), verbose=10) #fit the model"
   ]
  },
  {
   "cell_type": "markdown",
   "metadata": {},
   "source": [
    "With categorical names it works"
   ]
  },
  {
   "cell_type": "code",
   "execution_count": 10,
   "metadata": {
    "colab": {},
    "colab_type": "code",
    "id": "03_jH9AeMZPC"
   },
   "outputs": [
    {
     "data": {
      "text/plain": [
       "array([[0.0098, 0.9902],\n",
       "       [0.0101, 0.9899],\n",
       "       [0.0579, 0.9421],\n",
       "       ...,\n",
       "       [0.0118, 0.9882],\n",
       "       [0.1891, 0.8109],\n",
       "       [0.0235, 0.9765]])"
      ]
     },
     "execution_count": 10,
     "metadata": {},
     "output_type": "execute_result"
    }
   ],
   "source": [
    "#for every instance we hace the probabilitys for each class\n",
    "\n",
    "model.predict_proba(X)"
   ]
  },
  {
   "cell_type": "markdown",
   "metadata": {
    "colab_type": "text",
    "id": "8jy7iSlhMZPI"
   },
   "source": [
    "# Working with dataset"
   ]
  },
  {
   "cell_type": "markdown",
   "metadata": {
    "colab_type": "text",
    "id": "yg1LWsoYMZPJ"
   },
   "source": [
    "There are several ways of passing dataset to training - using X,y (the initial matrix) or using Pool class.\n",
    "Pool class is the class for storing the dataset. In the next few blocks we'll explore the ways to create a Pool object.\n",
    "\n",
    "You can use Pool class if the dataset has more than just X and y (for example, it has sample weights or groups) or if the dataset is large and it takes long time to read it into python."
   ]
  },
  {
   "cell_type": "code",
   "execution_count": 11,
   "metadata": {
    "colab": {},
    "colab_type": "code",
    "id": "8de_vsnWMZPJ"
   },
   "outputs": [],
   "source": [
    "from catboost import Pool\n",
    "pool = Pool(data=X, label=y, cat_features=cat_features)"
   ]
  },
  {
   "cell_type": "markdown",
   "metadata": {
    "colab_type": "text",
    "id": "Yz77pQTwMZPM"
   },
   "source": [
    "## Split your data into train and validation"
   ]
  },
  {
   "cell_type": "code",
   "execution_count": 12,
   "metadata": {
    "colab": {},
    "colab_type": "code",
    "id": "pkQoeVDtMZPM"
   },
   "outputs": [],
   "source": [
    "from sklearn.model_selection import train_test_split\n",
    "\n",
    "data = train_test_split(X, y, test_size=0.2, random_state=0)\n",
    "X_train, X_validation, y_train, y_validation = data\n",
    "\n",
    "#train pool\n",
    "train_pool = Pool(\n",
    "    data=X_train, \n",
    "    label=y_train, \n",
    "    cat_features=cat_features\n",
    ")\n",
    "\n",
    "#validation pool\n",
    "validation_pool = Pool(\n",
    "    data=X_validation, \n",
    "    label=y_validation, \n",
    "    cat_features=cat_features\n",
    ")"
   ]
  },
  {
   "cell_type": "markdown",
   "metadata": {
    "colab_type": "text",
    "id": "rjZ-oiQ5MZPO"
   },
   "source": [
    "## Selecting the objective function"
   ]
  },
  {
   "cell_type": "markdown",
   "metadata": {
    "colab_type": "text",
    "id": "kqO_PpZ3MZPP"
   },
   "source": [
    "Possible options for binary classification:\n",
    "\n",
    "`Logloss` for binary target.\n",
    "\n",
    "`CrossEntropy` for probabilities in target."
   ]
  },
  {
   "cell_type": "code",
   "execution_count": 13,
   "metadata": {
    "colab": {},
    "colab_type": "code",
    "id": "vX_8LBLiMZPQ"
   },
   "outputs": [
    {
     "name": "stdout",
     "output_type": "stream",
     "text": [
      "Model is fitted: True\n",
      "Model params:\n",
      "{'iterations': 5, 'learning_rate': 0.1}\n"
     ]
    }
   ],
   "source": [
    "model = CatBoostClassifier(\n",
    "    iterations=5,\n",
    "    learning_rate=0.1,\n",
    "    # loss_function='CrossEntropy'\n",
    ")\n",
    "model.fit(train_pool, eval_set=validation_pool, verbose=False)\n",
    "\n",
    "print('Model is fitted: {}'.format(model.is_fitted()))\n",
    "print('Model params:\\n{}'.format(model.get_params()))"
   ]
  },
  {
   "cell_type": "markdown",
   "metadata": {
    "colab_type": "text",
    "id": "9CLRhxKWMZPS"
   },
   "source": [
    "## Stdout of the training"
   ]
  },
  {
   "cell_type": "code",
   "execution_count": 17,
   "metadata": {
    "colab": {},
    "colab_type": "code",
    "id": "XE1jC-XNMZPS",
    "scrolled": false
   },
   "outputs": [
    {
     "name": "stdout",
     "output_type": "stream",
     "text": [
      "Learning rate set to 0.441257\n",
      "0:\tlearn: 0.4226231\ttest: 0.4217069\tbest: 0.4217069 (0)\ttotal: 13.7ms\tremaining: 192ms\n",
      "1:\tlearn: 0.3157972\ttest: 0.3136469\tbest: 0.3136469 (1)\ttotal: 30.9ms\tremaining: 201ms\n",
      "2:\tlearn: 0.2631196\ttest: 0.2603395\tbest: 0.2603395 (2)\ttotal: 46ms\tremaining: 184ms\n",
      "3:\tlearn: 0.2334650\ttest: 0.2294580\tbest: 0.2294580 (3)\ttotal: 60.1ms\tremaining: 165ms\n",
      "4:\tlearn: 0.2077060\ttest: 0.2017327\tbest: 0.2017327 (4)\ttotal: 75.2ms\tremaining: 150ms\n",
      "5:\tlearn: 0.1961364\ttest: 0.1883112\tbest: 0.1883112 (5)\ttotal: 89.6ms\tremaining: 134ms\n",
      "6:\tlearn: 0.1879266\ttest: 0.1794018\tbest: 0.1794018 (6)\ttotal: 105ms\tremaining: 120ms\n",
      "7:\tlearn: 0.1841218\ttest: 0.1743149\tbest: 0.1743149 (7)\ttotal: 115ms\tremaining: 100ms\n",
      "8:\tlearn: 0.1814626\ttest: 0.1698731\tbest: 0.1698731 (8)\ttotal: 129ms\tremaining: 86ms\n",
      "9:\tlearn: 0.1785403\ttest: 0.1650335\tbest: 0.1650335 (9)\ttotal: 143ms\tremaining: 71.6ms\n",
      "10:\tlearn: 0.1771678\ttest: 0.1634002\tbest: 0.1634002 (10)\ttotal: 158ms\tremaining: 57.3ms\n",
      "11:\tlearn: 0.1762101\ttest: 0.1628239\tbest: 0.1628239 (11)\ttotal: 172ms\tremaining: 43ms\n",
      "12:\tlearn: 0.1758255\ttest: 0.1624307\tbest: 0.1624307 (12)\ttotal: 187ms\tremaining: 28.7ms\n",
      "13:\tlearn: 0.1750837\ttest: 0.1622120\tbest: 0.1622120 (13)\ttotal: 203ms\tremaining: 14.5ms\n",
      "14:\tlearn: 0.1745736\ttest: 0.1616416\tbest: 0.1616416 (14)\ttotal: 217ms\tremaining: 0us\n",
      "\n",
      "bestTest = 0.1616416212\n",
      "bestIteration = 14\n",
      "\n"
     ]
    }
   ],
   "source": [
    "model = CatBoostClassifier(\n",
    "    iterations=15,\n",
    "#     verbose=5,\n",
    ")\n",
    "model.fit(train_pool, eval_set=validation_pool);"
   ]
  },
  {
   "cell_type": "code",
   "execution_count": 18,
   "metadata": {},
   "outputs": [
    {
     "name": "stdout",
     "output_type": "stream",
     "text": [
      "Learning rate set to 0.26136\n",
      "0:\tlearn: 0.5154456\ttest: 0.5149541\tbest: 0.5149541 (0)\ttotal: 15ms\tremaining: 733ms\n",
      "10:\tlearn: 0.1946935\ttest: 0.1875751\tbest: 0.1875751 (10)\ttotal: 148ms\tremaining: 526ms\n",
      "20:\tlearn: 0.1749604\ttest: 0.1626191\tbest: 0.1626191 (20)\ttotal: 293ms\tremaining: 405ms\n",
      "30:\tlearn: 0.1716988\ttest: 0.1592033\tbest: 0.1592033 (30)\ttotal: 447ms\tremaining: 274ms\n",
      "40:\tlearn: 0.1699723\ttest: 0.1579053\tbest: 0.1579053 (40)\ttotal: 590ms\tremaining: 129ms\n",
      "49:\tlearn: 0.1688302\ttest: 0.1568128\tbest: 0.1568070 (48)\ttotal: 714ms\tremaining: 0us\n",
      "\n",
      "bestTest = 0.1568069994\n",
      "bestIteration = 48\n",
      "\n",
      "Shrink model to first 49 iterations.\n"
     ]
    },
    {
     "data": {
      "text/plain": [
       "<catboost.core.CatBoostClassifier at 0x21cdeaca910>"
      ]
     },
     "execution_count": 18,
     "metadata": {},
     "output_type": "execute_result"
    }
   ],
   "source": [
    "model_1 = CatBoostClassifier(\n",
    "    iterations=50,\n",
    "    verbose=10,\n",
    ")\n",
    "model_1.fit(train_pool, eval_set=validation_pool)"
   ]
  },
  {
   "cell_type": "code",
   "execution_count": 19,
   "metadata": {},
   "outputs": [
    {
     "name": "stdout",
     "output_type": "stream",
     "text": [
      "Learning rate set to 0.095993\n",
      "0:\tlearn: 0.5834608\ttest: 0.5827359\tbest: 0.5827359 (0)\ttotal: 27.8ms\tremaining: 13.9s\n",
      "10:\tlearn: 0.2286866\ttest: 0.2231498\tbest: 0.2231498 (10)\ttotal: 261ms\tremaining: 11.6s\n",
      "20:\tlearn: 0.1784534\ttest: 0.1657012\tbest: 0.1657012 (20)\ttotal: 783ms\tremaining: 17.9s\n",
      "30:\tlearn: 0.1668992\ttest: 0.1496669\tbest: 0.1496669 (30)\ttotal: 1.53s\tremaining: 23.1s\n",
      "40:\tlearn: 0.1614484\ttest: 0.1424481\tbest: 0.1424481 (40)\ttotal: 2.12s\tremaining: 23.7s\n",
      "50:\tlearn: 0.1595253\ttest: 0.1406902\tbest: 0.1406902 (50)\ttotal: 2.65s\tremaining: 23.4s\n",
      "60:\tlearn: 0.1568892\ttest: 0.1391132\tbest: 0.1391132 (60)\ttotal: 3.36s\tremaining: 24.2s\n",
      "70:\tlearn: 0.1555521\ttest: 0.1384083\tbest: 0.1383827 (69)\ttotal: 4.05s\tremaining: 24.5s\n",
      "80:\tlearn: 0.1538197\ttest: 0.1376592\tbest: 0.1376441 (79)\ttotal: 4.68s\tremaining: 24.2s\n",
      "90:\tlearn: 0.1526466\ttest: 0.1370450\tbest: 0.1370450 (90)\ttotal: 5.4s\tremaining: 24.3s\n",
      "100:\tlearn: 0.1515331\ttest: 0.1366341\tbest: 0.1366341 (100)\ttotal: 5.95s\tremaining: 23.5s\n",
      "110:\tlearn: 0.1500699\ttest: 0.1357405\tbest: 0.1357405 (110)\ttotal: 6.53s\tremaining: 22.9s\n",
      "120:\tlearn: 0.1490945\ttest: 0.1356440\tbest: 0.1356251 (119)\ttotal: 7.15s\tremaining: 22.4s\n",
      "130:\tlearn: 0.1480604\ttest: 0.1352255\tbest: 0.1352255 (130)\ttotal: 7.7s\tremaining: 21.7s\n",
      "140:\tlearn: 0.1469736\ttest: 0.1346022\tbest: 0.1344895 (138)\ttotal: 8.43s\tremaining: 21.5s\n",
      "150:\tlearn: 0.1459086\ttest: 0.1344086\tbest: 0.1344086 (150)\ttotal: 8.93s\tremaining: 20.6s\n",
      "160:\tlearn: 0.1450980\ttest: 0.1342863\tbest: 0.1342442 (157)\ttotal: 9.57s\tremaining: 20.1s\n",
      "170:\tlearn: 0.1442194\ttest: 0.1341955\tbest: 0.1341884 (163)\ttotal: 10.1s\tremaining: 19.5s\n",
      "180:\tlearn: 0.1430024\ttest: 0.1340296\tbest: 0.1339890 (179)\ttotal: 10.7s\tremaining: 18.8s\n",
      "190:\tlearn: 0.1420154\ttest: 0.1338738\tbest: 0.1338584 (185)\ttotal: 11.2s\tremaining: 18.2s\n",
      "200:\tlearn: 0.1409886\ttest: 0.1335306\tbest: 0.1334885 (198)\ttotal: 11.8s\tremaining: 17.6s\n",
      "210:\tlearn: 0.1401469\ttest: 0.1334344\tbest: 0.1333336 (207)\ttotal: 12.5s\tremaining: 17.1s\n",
      "220:\tlearn: 0.1392902\ttest: 0.1334249\tbest: 0.1333336 (207)\ttotal: 13.2s\tremaining: 16.7s\n",
      "230:\tlearn: 0.1386057\ttest: 0.1333086\tbest: 0.1332347 (228)\ttotal: 13.9s\tremaining: 16.2s\n",
      "240:\tlearn: 0.1381100\ttest: 0.1332521\tbest: 0.1332052 (238)\ttotal: 14.4s\tremaining: 15.5s\n",
      "250:\tlearn: 0.1375288\ttest: 0.1332235\tbest: 0.1332052 (238)\ttotal: 15s\tremaining: 14.9s\n",
      "260:\tlearn: 0.1365394\ttest: 0.1329821\tbest: 0.1329821 (260)\ttotal: 15.7s\tremaining: 14.4s\n",
      "270:\tlearn: 0.1357371\ttest: 0.1327965\tbest: 0.1327965 (270)\ttotal: 16.4s\tremaining: 13.9s\n",
      "280:\tlearn: 0.1346359\ttest: 0.1325699\tbest: 0.1325466 (279)\ttotal: 17.1s\tremaining: 13.3s\n",
      "290:\tlearn: 0.1340211\ttest: 0.1324670\tbest: 0.1324670 (290)\ttotal: 17.6s\tremaining: 12.7s\n",
      "300:\tlearn: 0.1332666\ttest: 0.1324918\tbest: 0.1324670 (290)\ttotal: 18.2s\tremaining: 12.1s\n",
      "310:\tlearn: 0.1328559\ttest: 0.1323554\tbest: 0.1323524 (309)\ttotal: 18.8s\tremaining: 11.4s\n",
      "320:\tlearn: 0.1321225\ttest: 0.1325362\tbest: 0.1323524 (309)\ttotal: 19.3s\tremaining: 10.7s\n",
      "330:\tlearn: 0.1314135\ttest: 0.1324839\tbest: 0.1323524 (309)\ttotal: 19.8s\tremaining: 10.1s\n",
      "340:\tlearn: 0.1307102\ttest: 0.1324176\tbest: 0.1323524 (309)\ttotal: 20.4s\tremaining: 9.51s\n",
      "350:\tlearn: 0.1297682\ttest: 0.1324386\tbest: 0.1323308 (346)\ttotal: 21s\tremaining: 8.93s\n",
      "360:\tlearn: 0.1291249\ttest: 0.1324944\tbest: 0.1323301 (353)\ttotal: 21.7s\tremaining: 8.35s\n",
      "370:\tlearn: 0.1286536\ttest: 0.1326054\tbest: 0.1323301 (353)\ttotal: 22.3s\tremaining: 7.74s\n",
      "380:\tlearn: 0.1278118\ttest: 0.1326769\tbest: 0.1323301 (353)\ttotal: 22.9s\tremaining: 7.15s\n",
      "390:\tlearn: 0.1271772\ttest: 0.1329544\tbest: 0.1323301 (353)\ttotal: 23.4s\tremaining: 6.53s\n",
      "400:\tlearn: 0.1264304\ttest: 0.1327511\tbest: 0.1323301 (353)\ttotal: 24s\tremaining: 5.93s\n",
      "410:\tlearn: 0.1256829\ttest: 0.1327442\tbest: 0.1323301 (353)\ttotal: 24.6s\tremaining: 5.32s\n",
      "420:\tlearn: 0.1247226\ttest: 0.1327377\tbest: 0.1323301 (353)\ttotal: 25.1s\tremaining: 4.7s\n",
      "430:\tlearn: 0.1241334\ttest: 0.1327535\tbest: 0.1323301 (353)\ttotal: 25.6s\tremaining: 4.1s\n",
      "440:\tlearn: 0.1235324\ttest: 0.1327308\tbest: 0.1323301 (353)\ttotal: 26s\tremaining: 3.48s\n",
      "450:\tlearn: 0.1229323\ttest: 0.1327055\tbest: 0.1323301 (353)\ttotal: 26.6s\tremaining: 2.9s\n",
      "460:\tlearn: 0.1223823\ttest: 0.1328136\tbest: 0.1323301 (353)\ttotal: 27.4s\tremaining: 2.32s\n",
      "470:\tlearn: 0.1217413\ttest: 0.1329022\tbest: 0.1323301 (353)\ttotal: 27.9s\tremaining: 1.72s\n",
      "480:\tlearn: 0.1208999\ttest: 0.1331930\tbest: 0.1323301 (353)\ttotal: 28.5s\tremaining: 1.13s\n",
      "490:\tlearn: 0.1203985\ttest: 0.1332773\tbest: 0.1323301 (353)\ttotal: 29.2s\tremaining: 535ms\n",
      "499:\tlearn: 0.1197936\ttest: 0.1334079\tbest: 0.1323301 (353)\ttotal: 29.8s\tremaining: 0us\n",
      "\n",
      "bestTest = 0.1323301179\n",
      "bestIteration = 353\n",
      "\n",
      "Shrink model to first 354 iterations.\n"
     ]
    },
    {
     "data": {
      "text/plain": [
       "<catboost.core.CatBoostClassifier at 0x21cdeacaee0>"
      ]
     },
     "execution_count": 19,
     "metadata": {},
     "output_type": "execute_result"
    }
   ],
   "source": [
    "model_2 = CatBoostClassifier(\n",
    "    iterations=500,\n",
    "    verbose=10,\n",
    ")\n",
    "model_2.fit(train_pool, eval_set=validation_pool)"
   ]
  },
  {
   "cell_type": "markdown",
   "metadata": {},
   "source": [
    "As you see the learning rate is adjust automaticaly in function of:number of samples,number of features and the iteration number"
   ]
  },
  {
   "cell_type": "markdown",
   "metadata": {
    "colab_type": "text",
    "id": "TKEzlqkQMZPW"
   },
   "source": [
    "## Metrics calculation and graph plotting"
   ]
  },
  {
   "cell_type": "markdown",
   "metadata": {},
   "source": [
    "By default for binary classification CatBoost select Logloss as loss function\n",
    "\n",
    "You can indicate another custom functions to plot and evaluate"
   ]
  },
  {
   "cell_type": "code",
   "execution_count": 20,
   "metadata": {
    "colab": {},
    "colab_type": "code",
    "id": "iRg4UkspMZPX"
   },
   "outputs": [
    {
     "data": {
      "application/vnd.jupyter.widget-view+json": {
       "model_id": "7c0bd232b6d64a879f3ff8bedb49f2aa",
       "version_major": 2,
       "version_minor": 0
      },
      "text/plain": [
       "MetricVisualizer(layout=Layout(align_self='stretch', height='500px'))"
      ]
     },
     "metadata": {},
     "output_type": "display_data"
    }
   ],
   "source": [
    "model_3 = CatBoostClassifier(\n",
    "    iterations=50,\n",
    "    learning_rate=0.5,\n",
    "    custom_loss=['AUC', 'Accuracy'] #new metrics\n",
    ")\n",
    "\n",
    "model_3.fit(\n",
    "    train_pool,\n",
    "    eval_set=validation_pool,\n",
    "    verbose=False, #argument to verbose\n",
    "    plot=True #argument to plot\n",
    ");"
   ]
  },
  {
   "cell_type": "markdown",
   "metadata": {
    "colab_type": "text",
    "id": "aHKxnZ5yMZPZ"
   },
   "source": [
    "## Model comparison"
   ]
  },
  {
   "cell_type": "markdown",
   "metadata": {},
   "source": [
    "It's possible to plot the metrics before the training"
   ]
  },
  {
   "cell_type": "code",
   "execution_count": 21,
   "metadata": {
    "colab": {},
    "colab_type": "code",
    "id": "uXjipcrsMZPa"
   },
   "outputs": [
    {
     "name": "stdout",
     "output_type": "stream",
     "text": [
      "0:\tlearn: 0.3264513\ttest: 0.3248170\tbest: 0.3248170 (0)\ttotal: 13.6ms\tremaining: 1.35s\n",
      "20:\tlearn: 0.1688825\ttest: 0.1574182\tbest: 0.1573949 (16)\ttotal: 301ms\tremaining: 1.13s\n",
      "40:\tlearn: 0.1632884\ttest: 0.1582531\tbest: 0.1571533 (23)\ttotal: 588ms\tremaining: 846ms\n",
      "60:\tlearn: 0.1584388\ttest: 0.1573279\tbest: 0.1569712 (52)\ttotal: 873ms\tremaining: 558ms\n",
      "80:\tlearn: 0.1544282\ttest: 0.1583794\tbest: 0.1569712 (52)\ttotal: 1.17s\tremaining: 275ms\n",
      "99:\tlearn: 0.1510415\ttest: 0.1583995\tbest: 0.1569712 (52)\ttotal: 1.47s\tremaining: 0us\n",
      "\n",
      "bestTest = 0.1569712214\n",
      "bestIteration = 52\n",
      "\n",
      "Shrink model to first 53 iterations.\n",
      "0:\tlearn: 0.6853769\ttest: 0.6853610\tbest: 0.6853610 (0)\ttotal: 15.5ms\tremaining: 1.53s\n",
      "20:\tlearn: 0.5575578\ttest: 0.5568257\tbest: 0.5568257 (20)\ttotal: 303ms\tremaining: 1.14s\n",
      "40:\tlearn: 0.4678112\ttest: 0.4663769\tbest: 0.4663769 (40)\ttotal: 566ms\tremaining: 815ms\n",
      "60:\tlearn: 0.4029225\ttest: 0.4011544\tbest: 0.4011544 (60)\ttotal: 787ms\tremaining: 503ms\n",
      "80:\tlearn: 0.3551621\ttest: 0.3530433\tbest: 0.3530433 (80)\ttotal: 1s\tremaining: 235ms\n",
      "99:\tlearn: 0.3211782\ttest: 0.3188600\tbest: 0.3188600 (99)\ttotal: 1.17s\tremaining: 0us\n",
      "\n",
      "bestTest = 0.3188600187\n",
      "bestIteration = 99\n",
      "\n"
     ]
    }
   ],
   "source": [
    "#model with high learning rate: overfitting\n",
    "model_4 = CatBoostClassifier(\n",
    "    learning_rate=0.7,\n",
    "    iterations=100,\n",
    "    train_dir='learing_rate_0.7'\n",
    ")\n",
    "\n",
    "#Model with low learning rate: underfitting\n",
    "model_5 = CatBoostClassifier(\n",
    "    learning_rate=0.01,\n",
    "    iterations=100,\n",
    "    train_dir='learing_rate_0.01'\n",
    ")\n",
    "\n",
    "#fit model1 and model2\n",
    "model_4.fit(train_pool, eval_set=validation_pool, verbose=20)\n",
    "model_5.fit(train_pool, eval_set=validation_pool, verbose=20);"
   ]
  },
  {
   "cell_type": "code",
   "execution_count": 22,
   "metadata": {
    "colab": {},
    "colab_type": "code",
    "id": "rvARnee1MZPg"
   },
   "outputs": [
    {
     "data": {
      "application/vnd.jupyter.widget-view+json": {
       "model_id": "e2766cccc3614e20aaca2cfdbd87245e",
       "version_major": 2,
       "version_minor": 0
      },
      "text/plain": [
       "MetricVisualizer(layout=Layout(align_self='stretch', height='500px'))"
      ]
     },
     "metadata": {},
     "output_type": "display_data"
    }
   ],
   "source": [
    "#Plot metrics\n",
    "\n",
    "from catboost import MetricVisualizer\n",
    "MetricVisualizer(['learing_rate_0.7', 'learing_rate_0.01']).start()"
   ]
  },
  {
   "cell_type": "markdown",
   "metadata": {
    "colab_type": "text",
    "id": "yWlu5XJ8MZPq"
   },
   "source": [
    "## Best iteration"
   ]
  },
  {
   "cell_type": "code",
   "execution_count": 23,
   "metadata": {
    "colab": {},
    "colab_type": "code",
    "id": "KceX_z7gMZPs"
   },
   "outputs": [
    {
     "data": {
      "application/vnd.jupyter.widget-view+json": {
       "model_id": "2804eaf2862e44c1a3785dad7ab5e1ba",
       "version_major": 2,
       "version_minor": 0
      },
      "text/plain": [
       "MetricVisualizer(layout=Layout(align_self='stretch', height='500px'))"
      ]
     },
     "metadata": {},
     "output_type": "display_data"
    }
   ],
   "source": [
    "model_6 = CatBoostClassifier(\n",
    "    iterations=100,\n",
    "#     use_best_model=False\n",
    ")\n",
    "model_6.fit(\n",
    "    train_pool,\n",
    "    eval_set=validation_pool,\n",
    "    verbose=False,\n",
    "    plot=True\n",
    ");"
   ]
  },
  {
   "cell_type": "code",
   "execution_count": 27,
   "metadata": {
    "colab": {},
    "colab_type": "code",
    "id": "i9vMgkLrMZPx"
   },
   "outputs": [
    {
     "name": "stdout",
     "output_type": "stream",
     "text": [
      "Tree count: 82\n"
     ]
    }
   ],
   "source": [
    "print('Tree count: ' + str(model_6.tree_count_))"
   ]
  },
  {
   "cell_type": "code",
   "execution_count": 25,
   "metadata": {},
   "outputs": [
    {
     "data": {
      "application/vnd.jupyter.widget-view+json": {
       "model_id": "279ff101c57b489a9e91136575a1aa4b",
       "version_major": 2,
       "version_minor": 0
      },
      "text/plain": [
       "MetricVisualizer(layout=Layout(align_self='stretch', height='500px'))"
      ]
     },
     "metadata": {},
     "output_type": "display_data"
    }
   ],
   "source": [
    "model_7 = CatBoostClassifier(\n",
    "    iterations=100,\n",
    "    use_best_model=False\n",
    ")\n",
    "model_7.fit(\n",
    "    train_pool,\n",
    "    eval_set=validation_pool,\n",
    "    verbose=False,\n",
    "    plot=True\n",
    ");"
   ]
  },
  {
   "cell_type": "code",
   "execution_count": 28,
   "metadata": {},
   "outputs": [
    {
     "name": "stdout",
     "output_type": "stream",
     "text": [
      "Tree count: 100\n"
     ]
    }
   ],
   "source": [
    "print('Tree count: ' + str(model_7.tree_count_))"
   ]
  },
  {
   "cell_type": "markdown",
   "metadata": {
    "colab_type": "text",
    "id": "1Ruo2JedMZP9"
   },
   "source": [
    "## Cross-validation"
   ]
  },
  {
   "cell_type": "code",
   "execution_count": 34,
   "metadata": {
    "colab": {},
    "colab_type": "code",
    "id": "9TFixAUUMZP9"
   },
   "outputs": [
    {
     "data": {
      "application/vnd.jupyter.widget-view+json": {
       "model_id": "e76696e827e64873bbabb0bedbf3c60f",
       "version_major": 2,
       "version_minor": 0
      },
      "text/plain": [
       "MetricVisualizer(layout=Layout(align_self='stretch', height='500px'))"
      ]
     },
     "metadata": {},
     "output_type": "display_data"
    },
    {
     "name": "stdout",
     "output_type": "stream",
     "text": [
      "Training on fold [0/5]\n",
      "\n",
      "bestTest = 0.1628504126\n",
      "bestIteration = 68\n",
      "\n",
      "Training on fold [1/5]\n",
      "\n",
      "bestTest = 0.1608272543\n",
      "bestIteration = 77\n",
      "\n",
      "Training on fold [2/5]\n",
      "\n",
      "bestTest = 0.1694535356\n",
      "bestIteration = 12\n",
      "\n",
      "Training on fold [3/5]\n",
      "\n",
      "bestTest = 0.1569498918\n",
      "bestIteration = 29\n",
      "\n",
      "Training on fold [4/5]\n",
      "\n",
      "bestTest = 0.1644437541\n",
      "bestIteration = 30\n",
      "\n"
     ]
    }
   ],
   "source": [
    "from catboost import cv\n",
    "\n",
    "\n",
    "#params definition\n",
    "params = {\n",
    "    'loss_function': 'Logloss',\n",
    "    'iterations': 80,\n",
    "    'custom_loss': 'AUC',\n",
    "    'learning_rate': 0.5,\n",
    "}\n",
    "\n",
    "#cross validation proces\n",
    "cv_data = cv(\n",
    "    params = params,\n",
    "    pool = train_pool,\n",
    "    fold_count=5,\n",
    "    shuffle=True,\n",
    "    partition_random_seed=0,\n",
    "    plot=True,\n",
    "    verbose=False\n",
    ")"
   ]
  },
  {
   "cell_type": "code",
   "execution_count": 35,
   "metadata": {
    "colab": {},
    "colab_type": "code",
    "id": "150e30gnMZQA"
   },
   "outputs": [
    {
     "data": {
      "text/html": [
       "<div>\n",
       "<style scoped>\n",
       "    .dataframe tbody tr th:only-of-type {\n",
       "        vertical-align: middle;\n",
       "    }\n",
       "\n",
       "    .dataframe tbody tr th {\n",
       "        vertical-align: top;\n",
       "    }\n",
       "\n",
       "    .dataframe thead th {\n",
       "        text-align: right;\n",
       "    }\n",
       "</style>\n",
       "<table border=\"1\" class=\"dataframe\">\n",
       "  <thead>\n",
       "    <tr style=\"text-align: right;\">\n",
       "      <th></th>\n",
       "      <th>iterations</th>\n",
       "      <th>test-Logloss-mean</th>\n",
       "      <th>test-Logloss-std</th>\n",
       "      <th>train-Logloss-mean</th>\n",
       "      <th>train-Logloss-std</th>\n",
       "      <th>test-AUC-mean</th>\n",
       "      <th>test-AUC-std</th>\n",
       "    </tr>\n",
       "  </thead>\n",
       "  <tbody>\n",
       "    <tr>\n",
       "      <th>0</th>\n",
       "      <td>0</td>\n",
       "      <td>0.305831</td>\n",
       "      <td>0.000020</td>\n",
       "      <td>0.305810</td>\n",
       "      <td>0.000014</td>\n",
       "      <td>0.496175</td>\n",
       "      <td>0.014042</td>\n",
       "    </tr>\n",
       "    <tr>\n",
       "      <th>1</th>\n",
       "      <td>1</td>\n",
       "      <td>0.234755</td>\n",
       "      <td>0.001020</td>\n",
       "      <td>0.235427</td>\n",
       "      <td>0.000274</td>\n",
       "      <td>0.569789</td>\n",
       "      <td>0.030202</td>\n",
       "    </tr>\n",
       "    <tr>\n",
       "      <th>2</th>\n",
       "      <td>2</td>\n",
       "      <td>0.196036</td>\n",
       "      <td>0.002694</td>\n",
       "      <td>0.202469</td>\n",
       "      <td>0.003171</td>\n",
       "      <td>0.761543</td>\n",
       "      <td>0.025878</td>\n",
       "    </tr>\n",
       "    <tr>\n",
       "      <th>3</th>\n",
       "      <td>3</td>\n",
       "      <td>0.182656</td>\n",
       "      <td>0.001401</td>\n",
       "      <td>0.191400</td>\n",
       "      <td>0.001531</td>\n",
       "      <td>0.801902</td>\n",
       "      <td>0.008434</td>\n",
       "    </tr>\n",
       "    <tr>\n",
       "      <th>4</th>\n",
       "      <td>4</td>\n",
       "      <td>0.175531</td>\n",
       "      <td>0.001515</td>\n",
       "      <td>0.185466</td>\n",
       "      <td>0.002237</td>\n",
       "      <td>0.817244</td>\n",
       "      <td>0.008916</td>\n",
       "    </tr>\n",
       "    <tr>\n",
       "      <th>5</th>\n",
       "      <td>5</td>\n",
       "      <td>0.172046</td>\n",
       "      <td>0.002150</td>\n",
       "      <td>0.182478</td>\n",
       "      <td>0.002121</td>\n",
       "      <td>0.823333</td>\n",
       "      <td>0.006377</td>\n",
       "    </tr>\n",
       "    <tr>\n",
       "      <th>6</th>\n",
       "      <td>6</td>\n",
       "      <td>0.170193</td>\n",
       "      <td>0.001849</td>\n",
       "      <td>0.180450</td>\n",
       "      <td>0.002460</td>\n",
       "      <td>0.828977</td>\n",
       "      <td>0.007246</td>\n",
       "    </tr>\n",
       "    <tr>\n",
       "      <th>7</th>\n",
       "      <td>7</td>\n",
       "      <td>0.168321</td>\n",
       "      <td>0.002187</td>\n",
       "      <td>0.178140</td>\n",
       "      <td>0.002177</td>\n",
       "      <td>0.834106</td>\n",
       "      <td>0.010527</td>\n",
       "    </tr>\n",
       "    <tr>\n",
       "      <th>8</th>\n",
       "      <td>8</td>\n",
       "      <td>0.167416</td>\n",
       "      <td>0.002498</td>\n",
       "      <td>0.176438</td>\n",
       "      <td>0.002126</td>\n",
       "      <td>0.835628</td>\n",
       "      <td>0.011008</td>\n",
       "    </tr>\n",
       "    <tr>\n",
       "      <th>9</th>\n",
       "      <td>9</td>\n",
       "      <td>0.166474</td>\n",
       "      <td>0.003010</td>\n",
       "      <td>0.175041</td>\n",
       "      <td>0.002259</td>\n",
       "      <td>0.837496</td>\n",
       "      <td>0.011698</td>\n",
       "    </tr>\n",
       "  </tbody>\n",
       "</table>\n",
       "</div>"
      ],
      "text/plain": [
       "   iterations  test-Logloss-mean  test-Logloss-std  train-Logloss-mean  \\\n",
       "0           0           0.305831          0.000020            0.305810   \n",
       "1           1           0.234755          0.001020            0.235427   \n",
       "2           2           0.196036          0.002694            0.202469   \n",
       "3           3           0.182656          0.001401            0.191400   \n",
       "4           4           0.175531          0.001515            0.185466   \n",
       "5           5           0.172046          0.002150            0.182478   \n",
       "6           6           0.170193          0.001849            0.180450   \n",
       "7           7           0.168321          0.002187            0.178140   \n",
       "8           8           0.167416          0.002498            0.176438   \n",
       "9           9           0.166474          0.003010            0.175041   \n",
       "\n",
       "   train-Logloss-std  test-AUC-mean  test-AUC-std  \n",
       "0           0.000014       0.496175      0.014042  \n",
       "1           0.000274       0.569789      0.030202  \n",
       "2           0.003171       0.761543      0.025878  \n",
       "3           0.001531       0.801902      0.008434  \n",
       "4           0.002237       0.817244      0.008916  \n",
       "5           0.002121       0.823333      0.006377  \n",
       "6           0.002460       0.828977      0.007246  \n",
       "7           0.002177       0.834106      0.010527  \n",
       "8           0.002126       0.835628      0.011008  \n",
       "9           0.002259       0.837496      0.011698  "
      ]
     },
     "execution_count": 35,
     "metadata": {},
     "output_type": "execute_result"
    }
   ],
   "source": [
    "cv_data.head(10)"
   ]
  },
  {
   "cell_type": "code",
   "execution_count": 36,
   "metadata": {
    "colab": {},
    "colab_type": "code",
    "id": "JULYjE_xMZQD"
   },
   "outputs": [
    {
     "name": "stdout",
     "output_type": "stream",
     "text": [
      "Best validation Logloss score, not stratified: 0.1636±0.0046 on step 35\n"
     ]
    }
   ],
   "source": [
    "best_value = np.min(cv_data['test-Logloss-mean'])\n",
    "best_iter = np.argmin(cv_data['test-Logloss-mean'])\n",
    "\n",
    "print('Best validation Logloss score, not stratified: {:.4f}±{:.4f} on step {}'.format(\n",
    "    best_value,\n",
    "    cv_data['test-Logloss-std'][best_iter],\n",
    "    best_iter)\n",
    ")"
   ]
  },
  {
   "cell_type": "code",
   "execution_count": 37,
   "metadata": {
    "colab": {},
    "colab_type": "code",
    "id": "YxsGGOm6MZQF"
   },
   "outputs": [
    {
     "data": {
      "application/vnd.jupyter.widget-view+json": {
       "model_id": "ac59e07d52b642aba97c5686617ffb18",
       "version_major": 2,
       "version_minor": 0
      },
      "text/plain": [
       "MetricVisualizer(layout=Layout(align_self='stretch', height='500px'))"
      ]
     },
     "metadata": {},
     "output_type": "display_data"
    },
    {
     "name": "stdout",
     "output_type": "stream",
     "text": [
      "Training on fold [0/5]\n",
      "\n",
      "bestTest = 0.1628504126\n",
      "bestIteration = 68\n",
      "\n",
      "Training on fold [1/5]\n",
      "\n",
      "bestTest = 0.1608272543\n",
      "bestIteration = 77\n",
      "\n",
      "Training on fold [2/5]\n",
      "\n",
      "bestTest = 0.1694535356\n",
      "bestIteration = 12\n",
      "\n",
      "Training on fold [3/5]\n",
      "\n",
      "bestTest = 0.1569498918\n",
      "bestIteration = 29\n",
      "\n",
      "Training on fold [4/5]\n",
      "\n",
      "bestTest = 0.1644437541\n",
      "bestIteration = 30\n",
      "\n"
     ]
    }
   ],
   "source": [
    "from catboost import cv\n",
    "\n",
    "params = {\n",
    "    'loss_function': 'Logloss',\n",
    "    'iterations': 80,\n",
    "    'custom_loss': 'AUC',\n",
    "    'learning_rate': 0.5,\n",
    "}\n",
    "\n",
    "cv_data_1 = cv(\n",
    "    params = params,\n",
    "    pool = train_pool,\n",
    "    fold_count=5,\n",
    "    shuffle=True,\n",
    "    partition_random_seed=0,\n",
    "    plot=True,\n",
    "    stratified=True, #stratified target\n",
    "    verbose=False\n",
    ")"
   ]
  },
  {
   "cell_type": "code",
   "execution_count": 38,
   "metadata": {
    "colab": {},
    "colab_type": "code",
    "id": "b91GVE42MZQJ"
   },
   "outputs": [
    {
     "name": "stdout",
     "output_type": "stream",
     "text": [
      "Best validation Logloss score, stratified: 0.1636±0.0046 on step 35\n"
     ]
    }
   ],
   "source": [
    "best_value = cv_data_1['test-Logloss-mean'].min()\n",
    "best_iter = cv_data_1['test-Logloss-mean'].values.argmin()\n",
    "\n",
    "print('Best validation Logloss score, stratified: {:.4f}±{:.4f} on step {}'.format(\n",
    "    best_value,\n",
    "    cv_data_1['test-Logloss-std'][best_iter],\n",
    "    best_iter)\n",
    ")"
   ]
  },
  {
   "cell_type": "markdown",
   "metadata": {
    "colab_type": "text",
    "id": "HuBOhj9XMZQM"
   },
   "source": [
    "## Sklearn Grid Search"
   ]
  },
  {
   "cell_type": "code",
   "execution_count": 39,
   "metadata": {
    "colab": {},
    "colab_type": "code",
    "id": "24Ark8mHMZQO"
   },
   "outputs": [
    {
     "name": "stdout",
     "output_type": "stream",
     "text": [
      "0:\tlearn: 0.6923673\ttotal: 12.3ms\tremaining: 234ms\n",
      "19:\tlearn: 0.6778431\ttotal: 190ms\tremaining: 0us\n",
      "0:\tlearn: 0.6923682\ttotal: 9ms\tremaining: 171ms\n",
      "19:\tlearn: 0.6778558\ttotal: 150ms\tremaining: 0us\n",
      "0:\tlearn: 0.6923682\ttotal: 9.43ms\tremaining: 179ms\n",
      "19:\tlearn: 0.6778568\ttotal: 163ms\tremaining: 0us\n",
      "0:\tlearn: 0.6853838\ttotal: 11.6ms\tremaining: 220ms\n",
      "19:\tlearn: 0.5629769\ttotal: 168ms\tremaining: 0us\n",
      "0:\tlearn: 0.6853928\ttotal: 11.3ms\tremaining: 215ms\n",
      "19:\tlearn: 0.5630657\ttotal: 191ms\tremaining: 0us\n",
      "0:\tlearn: 0.6853925\ttotal: 8.77ms\tremaining: 167ms\n",
      "19:\tlearn: 0.5630556\ttotal: 163ms\tremaining: 0us\n",
      "0:\tlearn: 0.3972934\ttotal: 9.18ms\tremaining: 174ms\n",
      "19:\tlearn: 0.1766459\ttotal: 237ms\tremaining: 0us\n",
      "0:\tlearn: 0.3977266\ttotal: 8.71ms\tremaining: 165ms\n",
      "19:\tlearn: 0.1774892\ttotal: 250ms\tremaining: 0us\n",
      "0:\tlearn: 0.3977128\ttotal: 8.72ms\tremaining: 166ms\n",
      "19:\tlearn: 0.1733642\ttotal: 263ms\tremaining: 0us\n",
      "0:\tlearn: 0.3971379\ttotal: 17ms\tremaining: 324ms\n",
      "19:\tlearn: 0.1717590\ttotal: 293ms\tremaining: 0us\n"
     ]
    },
    {
     "data": {
      "text/plain": [
       "{'iterations': 20,\n",
       " 'learning_rate': 0.5,\n",
       " 'verbose': 20,\n",
       " 'cat_features': [0, 1, 2, 3, 4, 5, 6, 7, 8]}"
      ]
     },
     "execution_count": 39,
     "metadata": {},
     "output_type": "execute_result"
    }
   ],
   "source": [
    "from sklearn.model_selection import GridSearchCV\n",
    "\n",
    "param_grid = {\n",
    "    \"learning_rate\": [0.001, 0.01, 0.5],\n",
    "}\n",
    "\n",
    "clf = CatBoostClassifier(\n",
    "    iterations=20, \n",
    "    cat_features=cat_features, \n",
    "    verbose=20\n",
    ")\n",
    "grid_search = GridSearchCV(clf, param_grid=param_grid, cv=3)\n",
    "results = grid_search.fit(X_train, y_train)\n",
    "results.best_estimator_.get_params()"
   ]
  },
  {
   "cell_type": "markdown",
   "metadata": {},
   "source": [
    "with 20 iterations (low value) the best itetion correspond to the higest lerning rate"
   ]
  },
  {
   "cell_type": "markdown",
   "metadata": {
    "colab_type": "text",
    "id": "1QXMSJUXMZQS"
   },
   "source": [
    "## Overfitting Detector"
   ]
  },
  {
   "cell_type": "code",
   "execution_count": 40,
   "metadata": {
    "colab": {},
    "colab_type": "code",
    "id": "kQlfDI5YMZQT"
   },
   "outputs": [
    {
     "data": {
      "application/vnd.jupyter.widget-view+json": {
       "model_id": "eae3dbb25cad49e885584394190c1ed8",
       "version_major": 2,
       "version_minor": 0
      },
      "text/plain": [
       "MetricVisualizer(layout=Layout(align_self='stretch', height='500px'))"
      ]
     },
     "metadata": {},
     "output_type": "display_data"
    }
   ],
   "source": [
    "model_with_early_stop = CatBoostClassifier(\n",
    "    iterations=200,\n",
    "    learning_rate=0.5,\n",
    "    early_stopping_rounds=20\n",
    ")\n",
    "\n",
    "model_with_early_stop.fit(\n",
    "    train_pool,\n",
    "    eval_set=validation_pool,\n",
    "    verbose=False,\n",
    "    plot=True\n",
    ");"
   ]
  },
  {
   "cell_type": "code",
   "execution_count": 41,
   "metadata": {
    "colab": {},
    "colab_type": "code",
    "id": "5Jl3GK_qMZQX"
   },
   "outputs": [
    {
     "name": "stdout",
     "output_type": "stream",
     "text": [
      "20\n"
     ]
    }
   ],
   "source": [
    "print(model_with_early_stop.tree_count_)"
   ]
  },
  {
   "cell_type": "markdown",
   "metadata": {
    "colab_type": "text",
    "id": "Ligv5PbsMZQb"
   },
   "source": [
    "### Overfitting Detector with eval metric"
   ]
  },
  {
   "cell_type": "code",
   "execution_count": 42,
   "metadata": {
    "colab": {},
    "colab_type": "code",
    "id": "TUPc1ZmoMZQe",
    "scrolled": false
   },
   "outputs": [
    {
     "data": {
      "application/vnd.jupyter.widget-view+json": {
       "model_id": "e2eb2e98af784d9c826c887351d67e2f",
       "version_major": 2,
       "version_minor": 0
      },
      "text/plain": [
       "MetricVisualizer(layout=Layout(align_self='stretch', height='500px'))"
      ]
     },
     "metadata": {},
     "output_type": "display_data"
    }
   ],
   "source": [
    "model_with_early_stop = CatBoostClassifier(\n",
    "    eval_metric='AUC',\n",
    "    iterations=200,\n",
    "    learning_rate=0.5,\n",
    "    early_stopping_rounds=20\n",
    ")\n",
    "model_with_early_stop.fit(\n",
    "    train_pool,\n",
    "    eval_set=validation_pool,\n",
    "    verbose=False,\n",
    "    plot=True\n",
    ");"
   ]
  },
  {
   "cell_type": "code",
   "execution_count": 43,
   "metadata": {
    "colab": {},
    "colab_type": "code",
    "id": "XoX0Wq5VMZQj"
   },
   "outputs": [
    {
     "name": "stdout",
     "output_type": "stream",
     "text": [
      "51\n"
     ]
    }
   ],
   "source": [
    "print(model_with_early_stop.tree_count_)"
   ]
  },
  {
   "cell_type": "markdown",
   "metadata": {
    "colab_type": "text",
    "id": "ZtWqD3KyMZQl"
   },
   "source": [
    "## Model predictions"
   ]
  },
  {
   "cell_type": "code",
   "execution_count": 44,
   "metadata": {
    "colab": {},
    "colab_type": "code",
    "id": "ngT4KP4RMZQm"
   },
   "outputs": [
    {
     "name": "stdout",
     "output_type": "stream",
     "text": [
      "0:\tlearn: 0.6569432\ttotal: 28.8ms\tremaining: 5.72s\n",
      "50:\tlearn: 0.1958365\ttotal: 1.13s\tremaining: 3.3s\n",
      "100:\tlearn: 0.1664598\ttotal: 2.83s\tremaining: 2.77s\n",
      "150:\tlearn: 0.1595830\ttotal: 5.02s\tremaining: 1.63s\n",
      "199:\tlearn: 0.1554346\ttotal: 7.34s\tremaining: 0us\n"
     ]
    }
   ],
   "source": [
    "model = CatBoostClassifier(iterations=200, learning_rate=0.03)\n",
    "model.fit(train_pool, verbose=50);"
   ]
  },
  {
   "cell_type": "code",
   "execution_count": 46,
   "metadata": {
    "colab": {},
    "colab_type": "code",
    "id": "cDpwWDYyMZQs"
   },
   "outputs": [
    {
     "name": "stdout",
     "output_type": "stream",
     "text": [
      "[1 1 1 ... 1 1 1]\n"
     ]
    }
   ],
   "source": [
    "#first method - Directly give the class\n",
    "\n",
    "print(model.predict(X_validation))"
   ]
  },
  {
   "cell_type": "code",
   "execution_count": 47,
   "metadata": {
    "colab": {},
    "colab_type": "code",
    "id": "xe_eM0WvMZQy"
   },
   "outputs": [
    {
     "name": "stdout",
     "output_type": "stream",
     "text": [
      "[[0.0277 0.9723]\n",
      " [0.0189 0.9811]\n",
      " [0.01   0.99  ]\n",
      " ...\n",
      " [0.0327 0.9673]\n",
      " [0.0555 0.9445]\n",
      " [0.0224 0.9776]]\n"
     ]
    }
   ],
   "source": [
    "#second method - Give the probability to belong a class\n",
    "\n",
    "print(model.predict_proba(X_validation))"
   ]
  },
  {
   "cell_type": "code",
   "execution_count": 48,
   "metadata": {
    "colab": {},
    "colab_type": "code",
    "id": "OAj1nWOwMZQ0"
   },
   "outputs": [
    {
     "name": "stdout",
     "output_type": "stream",
     "text": [
      "[3.5575 3.9472 4.5956 ... 3.3858 2.8338 3.7772]\n"
     ]
    }
   ],
   "source": [
    "#In this case you see the sum of the trees - Took the leaf an sum the values... as you see this values are not between 0-1\n",
    "\n",
    "raw_pred = model.predict(\n",
    "    X_validation,\n",
    "    prediction_type='RawFormulaVal'\n",
    ")\n",
    "\n",
    "print(raw_pred)"
   ]
  },
  {
   "cell_type": "code",
   "execution_count": 50,
   "metadata": {
    "colab": {},
    "colab_type": "code",
    "id": "myejiBUNMZQ1"
   },
   "outputs": [
    {
     "name": "stdout",
     "output_type": "stream",
     "text": [
      "[0.9723 0.9811 0.99   ... 0.9673 0.9445 0.9776]\n"
     ]
    }
   ],
   "source": [
    "#Using the values in the leafs and put into the sigmoid function we obtain probabilitys values\n",
    "\n",
    "from numpy import exp\n",
    "\n",
    "sigmoid = lambda x: 1 / (1 + exp(-x))\n",
    "\n",
    "probabilities = sigmoid(raw_pred)\n",
    "\n",
    "print(probabilities)"
   ]
  },
  {
   "cell_type": "markdown",
   "metadata": {
    "colab_type": "text",
    "id": "E7STjxPJMZQ3"
   },
   "source": [
    "## Select decision boundary"
   ]
  },
  {
   "cell_type": "markdown",
   "metadata": {
    "colab_type": "text",
    "id": "ZxNBpVcZMZQ4"
   },
   "source": [
    "![](https://habrastorage.org/webt/y4/1q/yq/y41qyqfm9mcerp2ziys48phpjia.png)"
   ]
  },
  {
   "cell_type": "code",
   "execution_count": null,
   "metadata": {
    "colab": {},
    "colab_type": "code",
    "id": "WP9QYGMbMZQ4"
   },
   "outputs": [],
   "source": [
    "import matplotlib.pyplot as plt\n",
    "from catboost.utils import get_roc_curve\n",
    "from catboost.utils import get_fpr_curve\n",
    "from catboost.utils import get_fnr_curve\n",
    "\n",
    "curve = get_roc_curve(model, validation_pool)\n",
    "(fpr, tpr, thresholds) = curve\n",
    "\n",
    "(thresholds, fpr) = get_fpr_curve(curve=curve)\n",
    "(thresholds, fnr) = get_fnr_curve(curve=curve)"
   ]
  },
  {
   "cell_type": "code",
   "execution_count": null,
   "metadata": {
    "colab": {},
    "colab_type": "code",
    "id": "bz24FSjqMZQ6"
   },
   "outputs": [],
   "source": [
    "plt.figure(figsize=(16, 8))\n",
    "style = {'alpha':0.5, 'lw':2}\n",
    "\n",
    "plt.plot(thresholds, fpr, color='blue', label='FPR', **style)\n",
    "plt.plot(thresholds, fnr, color='green', label='FNR', **style)\n",
    "\n",
    "plt.xlim([0.0, 1.0])\n",
    "plt.ylim([0.0, 1.05])\n",
    "plt.xticks(fontsize=16)\n",
    "plt.yticks(fontsize=16)\n",
    "plt.grid(True)\n",
    "plt.xlabel('Threshold', fontsize=16)\n",
    "plt.ylabel('Error Rate', fontsize=16)\n",
    "plt.title('FPR-FNR curves', fontsize=20)\n",
    "plt.legend(loc=\"lower left\", fontsize=16);"
   ]
  },
  {
   "cell_type": "code",
   "execution_count": null,
   "metadata": {
    "colab": {},
    "colab_type": "code",
    "id": "aUL7hnLqMZQ9"
   },
   "outputs": [],
   "source": [
    "from catboost.utils import select_threshold\n",
    "\n",
    "print(select_threshold(model, validation_pool, FNR=0.01))\n",
    "print(select_threshold(model, validation_pool, FPR=0.01))"
   ]
  },
  {
   "cell_type": "markdown",
   "metadata": {
    "colab_type": "text",
    "id": "Ntw1PGCaMZRJ"
   },
   "source": [
    "## Metric evaluation on a new dataset"
   ]
  },
  {
   "cell_type": "code",
   "execution_count": null,
   "metadata": {
    "colab": {},
    "colab_type": "code",
    "id": "TCWcYqJ8MZRK"
   },
   "outputs": [],
   "source": [
    "metrics = model.eval_metrics(\n",
    "    data=validation_pool,\n",
    "    metrics=['Logloss','AUC'],\n",
    "    ntree_start=0,\n",
    "    ntree_end=0,\n",
    "    eval_period=1,\n",
    "    plot=True\n",
    ")"
   ]
  },
  {
   "cell_type": "code",
   "execution_count": null,
   "metadata": {
    "colab": {},
    "colab_type": "code",
    "id": "rcGRZVQWMZRL"
   },
   "outputs": [],
   "source": [
    "print('AUC values:\\n{}'.format(np.array(metrics['AUC'])))"
   ]
  },
  {
   "cell_type": "markdown",
   "metadata": {
    "colab_type": "text",
    "id": "h2UgaxQRMZRN"
   },
   "source": [
    "## Feature importances"
   ]
  },
  {
   "cell_type": "markdown",
   "metadata": {
    "colab_type": "text",
    "id": "NIV5PH01MZRP"
   },
   "source": [
    "### Prediction values change"
   ]
  },
  {
   "cell_type": "markdown",
   "metadata": {
    "colab_type": "text",
    "id": "qS2hRpAQMZRT"
   },
   "source": [
    "Default feature importances for binary classification is PredictionValueChange - how much on average does the model change when the feature value changes.\n",
    "These feature importances are non negative.\n",
    "They are normalized and sum to 1, so you can look on these values like percentage of importance."
   ]
  },
  {
   "cell_type": "code",
   "execution_count": null,
   "metadata": {
    "colab": {},
    "colab_type": "code",
    "id": "bgKG3KCgMZRU"
   },
   "outputs": [],
   "source": [
    "np.array(model.get_feature_importance(prettified=True))"
   ]
  },
  {
   "cell_type": "markdown",
   "metadata": {
    "colab_type": "text",
    "id": "3w7nCbTvMZRa"
   },
   "source": [
    "### Loss function change"
   ]
  },
  {
   "cell_type": "markdown",
   "metadata": {
    "colab_type": "text",
    "id": "XWatNS-kMZRb"
   },
   "source": [
    "The non default feature importance approximates how much the optimized loss function will change if the value of the feature changes.\n",
    "This importances might be negative if the feature has bad influence on the loss function.\n",
    "The importances are not normalized, the absolute value of the importance has the same scale as the optimized loss value.\n",
    "To calculate this importance value you need to pass train_pool as an argument."
   ]
  },
  {
   "cell_type": "code",
   "execution_count": null,
   "metadata": {
    "colab": {},
    "colab_type": "code",
    "id": "GONp6ghnMZRd"
   },
   "outputs": [],
   "source": [
    "np.array(model.get_feature_importance(\n",
    "    train_pool, \n",
    "    'LossFunctionChange', \n",
    "    prettified=True\n",
    "))"
   ]
  },
  {
   "cell_type": "markdown",
   "metadata": {
    "colab_type": "text",
    "id": "On6Px4N2MZRm"
   },
   "source": [
    "### Shap values"
   ]
  },
  {
   "cell_type": "code",
   "execution_count": null,
   "metadata": {
    "colab": {},
    "colab_type": "code",
    "id": "11Bw6odhMZRn"
   },
   "outputs": [],
   "source": [
    "print(model.predict_proba([X.iloc[1,:]]))\n",
    "print(model.predict_proba([X.iloc[91,:]]))"
   ]
  },
  {
   "cell_type": "code",
   "execution_count": null,
   "metadata": {
    "colab": {},
    "colab_type": "code",
    "id": "_h0bY0XhMZRq"
   },
   "outputs": [],
   "source": [
    "shap_values = model.get_feature_importance(\n",
    "    validation_pool, \n",
    "    'ShapValues'\n",
    ")\n",
    "expected_value = shap_values[0,-1]\n",
    "shap_values = shap_values[:,:-1]\n",
    "print(shap_values.shape)"
   ]
  },
  {
   "cell_type": "code",
   "execution_count": null,
   "metadata": {
    "colab": {},
    "colab_type": "code",
    "id": "j9W1hcP7MZRu"
   },
   "outputs": [],
   "source": [
    "proba = model.predict_proba([X.iloc[1,:]])[0]\n",
    "raw = model.predict([X.iloc[1,:]], prediction_type='RawFormulaVal')[0]\n",
    "print('Probabilities', proba)\n",
    "print('Raw formula value %.4f' % raw)\n",
    "print('Probability from raw value %.4f' % sigmoid(raw))"
   ]
  },
  {
   "cell_type": "code",
   "execution_count": null,
   "metadata": {
    "colab": {},
    "colab_type": "code",
    "id": "uaxHnyPkMZRw"
   },
   "outputs": [],
   "source": [
    "import shap\n",
    "\n",
    "shap.initjs()\n",
    "shap.force_plot(expected_value, shap_values[1,:], X_validation.iloc[1,:])"
   ]
  },
  {
   "cell_type": "code",
   "execution_count": null,
   "metadata": {
    "colab": {},
    "colab_type": "code",
    "id": "E1tFoTg-MZRz"
   },
   "outputs": [],
   "source": [
    "proba = model.predict_proba([X.iloc[91,:]])[0]\n",
    "raw = model.predict([X.iloc[91,:]], prediction_type='RawFormulaVal')[0]\n",
    "print('Probabilities', proba)\n",
    "print('Raw formula value %.4f' % raw)\n",
    "print('Probability from raw value %.4f' % sigmoid(raw))"
   ]
  },
  {
   "cell_type": "code",
   "execution_count": null,
   "metadata": {
    "colab": {},
    "colab_type": "code",
    "id": "0ohz9O2rMZR5"
   },
   "outputs": [],
   "source": [
    "import shap\n",
    "shap.initjs()\n",
    "shap.force_plot(expected_value, shap_values[91,:], X_validation.iloc[91,:])"
   ]
  },
  {
   "cell_type": "code",
   "execution_count": null,
   "metadata": {
    "colab": {},
    "colab_type": "code",
    "id": "vgm6DYwoMZR7"
   },
   "outputs": [],
   "source": [
    "shap.summary_plot(shap_values, X_validation)"
   ]
  },
  {
   "cell_type": "markdown",
   "metadata": {
    "colab_type": "text",
    "id": "qHgk_jAVMZR-"
   },
   "source": [
    "## Snapshotting"
   ]
  },
  {
   "cell_type": "code",
   "execution_count": null,
   "metadata": {
    "colab": {},
    "colab_type": "code",
    "id": "LSkSVIgpMZR-",
    "scrolled": false
   },
   "outputs": [],
   "source": [
    "#!rm 'catboost_info/snapshot.bkp'\n",
    "\n",
    "model = CatBoostClassifier(\n",
    "    iterations=100,\n",
    "    save_snapshot=True,\n",
    "    snapshot_file='snapshot.bkp',\n",
    "    snapshot_interval=1\n",
    ")\n",
    "\n",
    "model.fit(train_pool, eval_set=validation_pool, verbose=10);"
   ]
  },
  {
   "cell_type": "markdown",
   "metadata": {
    "colab_type": "text",
    "id": "CSrUndATMZSI"
   },
   "source": [
    "## Saving the model"
   ]
  },
  {
   "cell_type": "code",
   "execution_count": null,
   "metadata": {
    "colab": {},
    "colab_type": "code",
    "id": "k57j8m8fMZSJ"
   },
   "outputs": [],
   "source": [
    "model = CatBoostClassifier(iterations=10)\n",
    "model.fit(train_pool, eval_set=validation_pool, verbose=False)\n",
    "model.save_model('catboost_model.bin')\n",
    "model.save_model('catboost_model.json', format='json')"
   ]
  },
  {
   "cell_type": "code",
   "execution_count": null,
   "metadata": {
    "colab": {},
    "colab_type": "code",
    "id": "Rzw-eNTXMZSL"
   },
   "outputs": [],
   "source": [
    "model.load_model('catboost_model.bin')\n",
    "print(model.get_params())\n",
    "print(model.learning_rate_)"
   ]
  },
  {
   "cell_type": "markdown",
   "metadata": {
    "colab_type": "text",
    "id": "-Heg_zVIMZSQ"
   },
   "source": [
    "## Hyperparameter tunning"
   ]
  },
  {
   "cell_type": "code",
   "execution_count": null,
   "metadata": {
    "colab": {},
    "colab_type": "code",
    "id": "W9jnccPeMZSR"
   },
   "outputs": [],
   "source": [
    "tunned_model = CatBoostClassifier(\n",
    "    iterations=1000,\n",
    "    learning_rate=0.03,\n",
    "    depth=6,\n",
    "    l2_leaf_reg=3,\n",
    "    random_strength=1,\n",
    "    bagging_temperature=1\n",
    ")\n",
    "\n",
    "tunned_model.fit(\n",
    "    X_train, y_train,\n",
    "    cat_features=cat_features,\n",
    "    verbose=False,\n",
    "    eval_set=(X_validation, y_validation),\n",
    "    plot=True\n",
    ");"
   ]
  },
  {
   "cell_type": "markdown",
   "metadata": {
    "colab_type": "text",
    "id": "elLzENg5MZSY"
   },
   "source": [
    "# Speeding up the training"
   ]
  },
  {
   "cell_type": "code",
   "execution_count": null,
   "metadata": {
    "colab": {},
    "colab_type": "code",
    "id": "-5mUVUGNMZSZ"
   },
   "outputs": [],
   "source": [
    "fast_model = CatBoostClassifier(\n",
    "    boosting_type='Plain',\n",
    "    rsm=0.5,\n",
    "    one_hot_max_size=50,\n",
    "    leaf_estimation_iterations=1,\n",
    "    max_ctr_complexity=1,\n",
    "    iterations=100,\n",
    "    learning_rate=0.3,\n",
    "    bootstrap_type='Bernoulli',\n",
    "    subsample=0.5\n",
    ")\n",
    "fast_model.fit(\n",
    "    X_train, y_train,\n",
    "    cat_features=cat_features,\n",
    "    verbose=False,\n",
    "    eval_set=(X_validation, y_validation),\n",
    "    plot=True\n",
    ");"
   ]
  },
  {
   "cell_type": "markdown",
   "metadata": {
    "colab_type": "text",
    "id": "tJRqbqAAMZSe"
   },
   "source": [
    "# Reducing model size"
   ]
  },
  {
   "cell_type": "code",
   "execution_count": null,
   "metadata": {
    "colab": {},
    "colab_type": "code",
    "id": "vK5lh6fHMZSf"
   },
   "outputs": [],
   "source": [
    "small_model = CatBoostClassifier(\n",
    "    learning_rate=0.03,\n",
    "    iterations=500,\n",
    "    model_size_reg=50,\n",
    "    max_ctr_complexity=1,\n",
    "    ctr_leaf_count_limit=100\n",
    ")\n",
    "small_model.fit(\n",
    "    X_train, y_train,\n",
    "    cat_features=cat_features,\n",
    "    verbose=False,\n",
    "    eval_set=(X_validation, y_validation),\n",
    "    plot=True\n",
    ");"
   ]
  }
 ],
 "metadata": {
  "colab": {
   "collapsed_sections": [
    "Yz77pQTwMZPM",
    "rjZ-oiQ5MZPO",
    "9CLRhxKWMZPS",
    "TKEzlqkQMZPW",
    "aHKxnZ5yMZPZ",
    "yWlu5XJ8MZPq",
    "1Ruo2JedMZP9",
    "HuBOhj9XMZQM",
    "1QXMSJUXMZQS",
    "Ligv5PbsMZQb",
    "ZtWqD3KyMZQl",
    "E7STjxPJMZQ3",
    "Ntw1PGCaMZRJ",
    "h2UgaxQRMZRN",
    "NIV5PH01MZRP",
    "3w7nCbTvMZRa",
    "On6Px4N2MZRm",
    "qHgk_jAVMZR-",
    "CSrUndATMZSI",
    "-Heg_zVIMZSQ"
   ],
   "name": "pydata_london_2019.ipynb",
   "provenance": [],
   "version": "0.3.2"
  },
  "kernelspec": {
   "display_name": "Python 3",
   "language": "python",
   "name": "python3"
  },
  "language_info": {
   "codemirror_mode": {
    "name": "ipython",
    "version": 3
   },
   "file_extension": ".py",
   "mimetype": "text/x-python",
   "name": "python",
   "nbconvert_exporter": "python",
   "pygments_lexer": "ipython3",
   "version": "3.8.8"
  }
 },
 "nbformat": 4,
 "nbformat_minor": 1
}
